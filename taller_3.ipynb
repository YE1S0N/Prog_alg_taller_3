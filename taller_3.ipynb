{
  "nbformat": 4,
  "nbformat_minor": 0,
  "metadata": {
    "colab": {
      "provenance": [],
      "authorship_tag": "ABX9TyP6Re8jRUeK6YCt4ifdNY2Q",
      "include_colab_link": true
    },
    "kernelspec": {
      "name": "python3",
      "display_name": "Python 3"
    },
    "language_info": {
      "name": "python"
    }
  },
  "cells": [
    {
      "cell_type": "markdown",
      "metadata": {
        "id": "view-in-github",
        "colab_type": "text"
      },
      "source": [
        "<a href=\"https://colab.research.google.com/github/YE1S0N/Prog_alg_taller_3/blob/main/taller_3.ipynb\" target=\"_parent\"><img src=\"https://colab.research.google.com/assets/colab-badge.svg\" alt=\"Open In Colab\"/></a>"
      ]
    },
    {
      "cell_type": "markdown",
      "source": [
        "##Taller 3 – Sintaxis Básica de Python\n",
        "#Yeison Rafael De Leon Urango\n",
        "#000491649\n",
        "#yeison.de@upb.edu.co"
      ],
      "metadata": {
        "id": "Cl6mXGCu-PCD"
      }
    },
    {
      "cell_type": "code",
      "execution_count": null,
      "metadata": {
        "colab": {
          "base_uri": "https://localhost:8080/"
        },
        "id": "qEUsy6moohPe",
        "outputId": "20fc227e-d06a-4fa1-9d95-d7aca516d725"
      },
      "outputs": [
        {
          "output_type": "stream",
          "name": "stdout",
          "text": [
            "calcular la posicion en un instante de tiempo\n",
            "ingrese la posicion inicial (m): 10\n",
            "ingrese la velocidad inicial (m/s): 15\n",
            "ingrese el instante de tiempo (s): 4\n",
            "ingrese la aceleracion (m/s**2)22\n",
            "la posicion instantanea para los datos ingresados es:  246.0 M.\n"
          ]
        }
      ],
      "source": [
        "## problema 1\n",
        "print(\"calcular la posicion en un instante de tiempo\")\n",
        "X0 = float(input(\"ingrese la posicion inicial (m): \"))\n",
        "V0 = float(input(\"ingrese la velocidad inicial (m/s): \"))\n",
        "t = float(input(\"ingrese el instante de tiempo (s): \" ))\n",
        "A = float(input(\"ingrese la aceleracion (m/s**2)\"))\n",
        "X = X0 + V0 * t + 1/2 * A * t**2\n",
        "\n",
        "print(\"la posicion instantanea para los datos ingresados es: \", str(X), \"M.\")"
      ]
    },
    {
      "cell_type": "code",
      "source": [
        "##problema 2\n",
        "print('calcular la distancia entre dos puntos')\n",
        "X1 = float(input('ingrese la coordenada X1: '))\n",
        "Y1 = float(input('ingrese la coordenada Y1: '))\n",
        "X2 = float(input('ingrese la coordenada X2: '))\n",
        "Y2 = float(input('ingrese la coordenada Y2: '))\n",
        "\n",
        "D = (X2 - X1)**2 + (Y2 - Y1)**2 * 1/2\n",
        "\n",
        "print(\"la distancia entre dos puntos para los datos ingresados es: \", str(D), \"m.\")\n",
        "\n",
        "\n"
      ],
      "metadata": {
        "colab": {
          "base_uri": "https://localhost:8080/"
        },
        "id": "WnV_lerCpYWy",
        "outputId": "e6bb9c4b-c3a5-4835-f141-cb91d895e212"
      },
      "execution_count": null,
      "outputs": [
        {
          "output_type": "stream",
          "name": "stdout",
          "text": [
            "calcular la distancia entre dos puntos\n",
            "ingrese la coordenada X1: 12\n",
            "ingrese la coordenada Y1: 22\n",
            "ingrese la coordenada X2: 11\n",
            "ingrese la coordenada Y2: 23\n",
            "la distancia entre dos puntos para los datos ingresados es:  1.5 m.\n"
          ]
        }
      ]
    },
    {
      "cell_type": "code",
      "source": [
        "##problma 3\n",
        "print(\"calcular el volumen de un cilindro\")\n",
        "r = float(input(\"ingrese el radio del cilindro (m): \"))\n",
        "h = float(input(\"ingrese la altura del cilindro (m): \"))\n",
        "PI = 3.141592\n",
        "V = PI * r**2 * h\n",
        "\n",
        "print(\"el volumen del cilindro para los datos ingresados es: \", str(V), \"3\")"
      ],
      "metadata": {
        "colab": {
          "base_uri": "https://localhost:8080/"
        },
        "id": "nxIRZ27Voovy",
        "outputId": "d4f0a80b-1326-424f-8fa6-246af341421e"
      },
      "execution_count": null,
      "outputs": [
        {
          "output_type": "stream",
          "name": "stdout",
          "text": [
            "calcular el volumen de un cilindro\n",
            "ingrese el radio del cilindro (m): 10\n",
            "ingrese la altura del cilindro (m): 19\n",
            "el volumen del cilindro para los datos ingresados es:  5969.0248 m3\n"
          ]
        }
      ]
    },
    {
      "cell_type": "code",
      "source": [
        "##problema 4\n",
        "float(input(\"ingrese el valor de a:\"))\n",
        "float(input(\"ingrese el valor de b:\"))\n",
        "float(input(\"ingrese el valor de c:\"))\n",
        "float(input(\"ingrese el valor de d:\"))\n",
        "print(a > b) and (b > d)\n",
        "print((b <= c) or (c < d))\n",
        "print((a == b) and (b > c))\n",
        "print((a < c) or (b < c))\n",
        "print((a + d < c )and (b > 5))\n",
        "print((d - c >= - a * b))\n",
        "print((d * c == 5) or (c * a > 9))\n",
        "print((a * b + c > - d * 10))\n"
      ],
      "metadata": {
        "colab": {
          "base_uri": "https://localhost:8080/"
        },
        "id": "xLXdd85DpWfC",
        "outputId": "134627bc-22ea-4073-b90e-daf4c669832b"
      },
      "execution_count": null,
      "outputs": [
        {
          "output_type": "stream",
          "name": "stdout",
          "text": [
            "ingrese el valor de a:20\n",
            "ingrese el valor de b:15\n",
            "ingrese el valor de c:10\n",
            "ingrese el valor de d:5\n",
            "False\n",
            "True\n",
            "True\n",
            "False\n",
            "False\n",
            "True\n",
            "True\n",
            "True\n"
          ]
        }
      ]
    },
    {
      "cell_type": "code",
      "source": [
        "b = float(input(\"ingrese la base del triangulo: \"))\n",
        "h = float(input(\"ingrese la altura: \"))\n",
        "A = (b * h)/ 2\n",
        "print(A)\n",
        "\n",
        "if A > 1000:\n",
        "  print(\"terrno grande\")\n",
        "else:\n",
        "  print(\"terreno espectacular\")\n"
      ],
      "metadata": {
        "id": "wxsuwrdQzCpR",
        "colab": {
          "base_uri": "https://localhost:8080/"
        },
        "outputId": "0941448c-da41-4509-9267-9c5d585e47d8"
      },
      "execution_count": null,
      "outputs": [
        {
          "output_type": "stream",
          "name": "stdout",
          "text": [
            "ingrese la base del triangulo: 10\n",
            "ingrese la altura: 10\n",
            "50.0\n",
            "terreno espectacular\n"
          ]
        }
      ]
    },
    {
      "cell_type": "code",
      "source": [
        "print(\"cuantas docenas desea adquirir\")\n",
        "P = 1500\n",
        "D = float(input(\"numero de docenas a comprar: \"))\n",
        "\n",
        "if (D * P)>= 15000:\n",
        "  x = (D * P) * 15 / 100\n",
        "  print(\"el valor del descuento aplicado por la compra de las docenas es: \",str(x) )\n",
        "if (D * P)< 15000:\n",
        "  x = (D * P) * 10 / 100\n",
        "  print(\"el valor del descuento aplicado por la compra de las docenas es: \",str(x) )\n"
      ],
      "metadata": {
        "colab": {
          "base_uri": "https://localhost:8080/"
        },
        "id": "zkKeW0WueSx-",
        "outputId": "c2971032-506f-4139-fd24-7a407b99b4e9"
      },
      "execution_count": 1,
      "outputs": [
        {
          "output_type": "stream",
          "name": "stdout",
          "text": [
            "cuantas docenas desea adquirir\n",
            "numero de docenas a comprar: 45\n",
            "el valor del descuento aplicado por la compra de las docenas es:  10125.0\n"
          ]
        }
      ]
    },
    {
      "cell_type": "code",
      "source": [
        "docenas = float(input(\"ingrese las docenas adquiridas:\"))\n",
        "precio = float(input(\"ingrese el precio por docena:\"))\n",
        "subtotal = docenas * precio\n",
        "\n",
        "if docenas >= 10:\n",
        "  descuento = subtotal * 0.15\n",
        "else:\n",
        "  descuento = subtotal * 0.11\n",
        "\n",
        "print(\"subtotal $\", subtotal)\n",
        "print(\"descuento $ \", descuento)\n",
        "print(\"total: $ \", (subtotal-descuento))"
      ],
      "metadata": {
        "id": "Vf56CDISjM5H",
        "outputId": "eb8484cd-f15d-43c2-e0aa-bdeb6a4b80c6",
        "colab": {
          "base_uri": "https://localhost:8080/"
        }
      },
      "execution_count": 15,
      "outputs": [
        {
          "output_type": "stream",
          "name": "stdout",
          "text": [
            "ingrese las docenas adquiridas:88\n",
            "ingrese el precio por docena:88\n",
            "subtotal $ 7744.0\n",
            "descuento $  1161.6\n",
            "total: $  6582.4\n"
          ]
        }
      ]
    },
    {
      "cell_type": "code",
      "source": [
        "float(input(\"a que categoria pertenec\"))\n",
        "if categoria A:\n",
        "\n",
        "\n",
        "\n",
        "categoria A = float(input(\"cuantas horas trabaja al mes\"))\n",
        "categoria B = float(input(\"cuantas horas trabaja al mes\"))\n",
        "\n",
        "if categoria A:\n",
        "  x = categoria A * 45\n",
        " A = float(input(\"ingrese su numero de hijos\") * 40.5)\n",
        " B = x + a\n",
        "\n",
        "if categoria B:\n",
        "  x = categoria B * 37.5\n",
        "  A = float(input(\"ingrese su numero de hijos\") * 35)\n",
        "  B = x + a\n",
        "\n"
      ],
      "metadata": {
        "id": "UDid2OedONvn",
        "outputId": "28030c79-2365-461f-adfc-80041a007920",
        "colab": {
          "base_uri": "https://localhost:8080/",
          "height": 145
        }
      },
      "execution_count": 18,
      "outputs": [
        {
          "output_type": "error",
          "ename": "IndentationError",
          "evalue": "ignored",
          "traceback": [
            "\u001b[0;36m  File \u001b[0;32m\"<tokenize>\"\u001b[0;36m, line \u001b[0;32m6\u001b[0m\n\u001b[0;31m    a = float(input(\"ingrese su numero de hijos\") * 40.5)\u001b[0m\n\u001b[0m    ^\u001b[0m\n\u001b[0;31mIndentationError\u001b[0m\u001b[0;31m:\u001b[0m unindent does not match any outer indentation level\n"
          ]
        }
      ]
    },
    {
      "cell_type": "code",
      "source": [
        "float(input(\"a que categoria pertenec\"))\n",
        "if categoria A:\n",
        "  categoria A = float(input(\"cuantas horas trabaja al mes\"))\n",
        "   x = categoria A * 45\n",
        " A = float(input(\"ingrese su numero de hijos\"))\n",
        " B = x + a\n",
        "if categoria B:\n",
        "  categoria B = float(input(\"cuantas horas trabaja al mes\"))\n",
        "  x = categoria B * 37.5\n",
        "  A = float(input(\"ingrese su numero de hijos\")*35)\n",
        "  B = x + a"
      ],
      "metadata": {
        "id": "hDPdY1e8U5E1",
        "outputId": "d3b2a0dc-54dc-4406-c760-6b95ea189c61",
        "colab": {
          "base_uri": "https://localhost:8080/",
          "height": 145
        }
      },
      "execution_count": 30,
      "outputs": [
        {
          "output_type": "error",
          "ename": "IndentationError",
          "evalue": "ignored",
          "traceback": [
            "\u001b[0;36m  File \u001b[0;32m\"<tokenize>\"\u001b[0;36m, line \u001b[0;32m5\u001b[0m\n\u001b[0;31m    A = float(input(\"ingrese su numero de hijos\"))\u001b[0m\n\u001b[0m    ^\u001b[0m\n\u001b[0;31mIndentationError\u001b[0m\u001b[0;31m:\u001b[0m unindent does not match any outer indentation level\n"
          ]
        }
      ]
    },
    {
      "cell_type": "code",
      "source": [
        "print(\"a que categoria pertenece\")\n",
        "D = input(\"ingrese categoria :\")\n",
        "\n",
        "if D == \"A\":\n",
        " H = float(input(\"ingrese las horas trabajdas al mes\")) * 45\n",
        " J = float(input(\"ingrese el numero de hijos\")) * 40.5\n",
        " (H + J)>= 3500 * 0.135\n",
        "\n",
        "if D == \"B\":\n",
        "  H = float(input(\"ingrese las horas trabajadas al mes\")) * 37.5\n",
        "  J = float(input(\"ingreseel numero de hijos\")) * 35\n",
        "  (H + J)<3500 * 0.1\n"
      ],
      "metadata": {
        "id": "Ml9U3gTjXtwg",
        "outputId": "63f5768d-86c5-4efa-bf12-5928627d6742",
        "colab": {
          "base_uri": "https://localhost:8080/"
        }
      },
      "execution_count": 40,
      "outputs": [
        {
          "name": "stdout",
          "output_type": "stream",
          "text": [
            "a que categoria pertenece\n",
            "ingrese categoria :A\n",
            "ingrese las horas trabajdas al mes60\n",
            "ingrese el numero de hijos5\n"
          ]
        }
      ]
    },
    {
      "cell_type": "code",
      "source": [],
      "metadata": {
        "id": "2ct2Mrxpcx4R"
      },
      "execution_count": 36,
      "outputs": []
    }
  ]
}