{
  "nbformat": 4,
  "nbformat_minor": 0,
  "metadata": {
    "colab": {
      "provenance": [],
      "authorship_tag": "ABX9TyMoef1tiXNv6uy/h7c20aua",
      "include_colab_link": true
    },
    "kernelspec": {
      "name": "python3",
      "display_name": "Python 3"
    },
    "language_info": {
      "name": "python"
    }
  },
  "cells": [
    {
      "cell_type": "markdown",
      "metadata": {
        "id": "view-in-github",
        "colab_type": "text"
      },
      "source": [
        "<a href=\"https://colab.research.google.com/github/YE1S0N/Prog_alg_taller_3/blob/main/taller_3.ipynb\" target=\"_parent\"><img src=\"https://colab.research.google.com/assets/colab-badge.svg\" alt=\"Open In Colab\"/></a>"
      ]
    },
    {
      "cell_type": "code",
      "execution_count": 4,
      "metadata": {
        "colab": {
          "base_uri": "https://localhost:8080/"
        },
        "id": "qEUsy6moohPe",
        "outputId": "20fc227e-d06a-4fa1-9d95-d7aca516d725"
      },
      "outputs": [
        {
          "output_type": "stream",
          "name": "stdout",
          "text": [
            "calcular la posicion en un instante de tiempo\n",
            "ingrese la posicion inicial (m): 10\n",
            "ingrese la velocidad inicial (m/s): 15\n",
            "ingrese el instante de tiempo (s): 4\n",
            "ingrese la aceleracion (m/s**2)22\n",
            "la posicion instantanea para los datos ingresados es:  246.0 M.\n"
          ]
        }
      ],
      "source": [
        "## problema 1\n",
        "print(\"calcular la posicion en un instante de tiempo\")\n",
        "X0 = float(input(\"ingrese la posicion inicial (m): \"))\n",
        "V0 = float(input(\"ingrese la velocidad inicial (m/s): \"))\n",
        "t = float(input(\"ingrese el instante de tiempo (s): \" ))\n",
        "A = float(input(\"ingrese la aceleracion (m/s**2)\"))\n",
        "X = X0 + V0 * t + 1/2 * A * t**2\n",
        "\n",
        "print(\"la posicion instantanea para los datos ingresados es: \", str(X), \"M.\")"
      ]
    },
    {
      "cell_type": "code",
      "source": [
        "##problema 2\n",
        "print('calcular la distancia entre dos puntos')\n",
        "X1 = float(input('ingrese la coordenada X1: '))\n",
        "Y1 = float(input('ingrese la coordenada Y1: '))\n",
        "X2 = float(input('ingrese la coordenada X2: '))\n",
        "Y2 = float(input('ingrese la coordenada Y2: '))\n",
        "\n",
        "D = (X2 - X1)**2 + (Y2 - Y1)**2 * 1/2\n",
        "\n",
        "print(\"la distancia entre dos puntos para los datos ingresados es: \", str(D), \"m.\")\n",
        "\n",
        "\n"
      ],
      "metadata": {
        "colab": {
          "base_uri": "https://localhost:8080/"
        },
        "id": "WnV_lerCpYWy",
        "outputId": "e6bb9c4b-c3a5-4835-f141-cb91d895e212"
      },
      "execution_count": 22,
      "outputs": [
        {
          "output_type": "stream",
          "name": "stdout",
          "text": [
            "calcular la distancia entre dos puntos\n",
            "ingrese la coordenada X1: 12\n",
            "ingrese la coordenada Y1: 22\n",
            "ingrese la coordenada X2: 11\n",
            "ingrese la coordenada Y2: 23\n",
            "la distancia entre dos puntos para los datos ingresados es:  1.5 m.\n"
          ]
        }
      ]
    },
    {
      "cell_type": "code",
      "source": [
        "##problma 3\n",
        "print(\"calcular el volumen de un cilindro\")\n",
        "r = float(input(\"ingrese el radio del cilindro (m): \"))\n",
        "h = float(input(\"ingrese la altura del cilindro (m): \"))\n",
        "PI = 3.141592\n",
        "V = PI * r**2 * h\n",
        "\n",
        "print(\"el volumen del cilindro para los datos ingresados es: \", str(V), \"3\")"
      ],
      "metadata": {
        "colab": {
          "base_uri": "https://localhost:8080/"
        },
        "id": "nxIRZ27Voovy",
        "outputId": "d4f0a80b-1326-424f-8fa6-246af341421e"
      },
      "execution_count": 10,
      "outputs": [
        {
          "output_type": "stream",
          "name": "stdout",
          "text": [
            "calcular el volumen de un cilindro\n",
            "ingrese el radio del cilindro (m): 10\n",
            "ingrese la altura del cilindro (m): 19\n",
            "el volumen del cilindro para los datos ingresados es:  5969.0248 m3\n"
          ]
        }
      ]
    },
    {
      "cell_type": "code",
      "source": [
        "##problema 4\n",
        "float(input(\"ingrese el valor de a:\"))\n",
        "float(input(\"ingrese el valor de b:\"))\n",
        "float(input(\"ingrese el valor de c:\"))\n",
        "float(input(\"ingrese el valor de d:\"))\n",
        "print(a > b) and (b > d)\n",
        "print((b <= c) or (c < d))\n",
        "print((a == b) and (b > c))\n",
        "print((a < c) or (b < c))\n",
        "print((a + d < c )and (b > 5))\n",
        "print((d - c >= - a * b))\n",
        "print((d * c == 5) or (c * a > 9))\n",
        "print((a * b + c > - d * 10))\n"
      ],
      "metadata": {
        "colab": {
          "base_uri": "https://localhost:8080/"
        },
        "id": "xLXdd85DpWfC",
        "outputId": "134627bc-22ea-4073-b90e-daf4c669832b"
      },
      "execution_count": 20,
      "outputs": [
        {
          "output_type": "stream",
          "name": "stdout",
          "text": [
            "ingrese el valor de a:20\n",
            "ingrese el valor de b:15\n",
            "ingrese el valor de c:10\n",
            "ingrese el valor de d:5\n",
            "False\n",
            "True\n",
            "True\n",
            "False\n",
            "False\n",
            "True\n",
            "True\n",
            "True\n"
          ]
        }
      ]
    },
    {
      "cell_type": "code",
      "source": [],
      "metadata": {
        "id": "wxsuwrdQzCpR"
      },
      "execution_count": null,
      "outputs": []
    }
  ]
}